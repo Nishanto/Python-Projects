{
 "cells": [
  {
   "cell_type": "code",
   "execution_count": 6,
   "metadata": {},
   "outputs": [
    {
     "name": "stdout",
     "output_type": "stream",
     "text": [
      "**************************************************\n",
      "\t\tJayant_Motors\n",
      "\t\t144 Kalka Road.\n",
      "\t\tRewari\n",
      "==================================================\n",
      "\tProduct Name\tProduct Price\n",
      "\tNewholland 3630\t\t$900000\n",
      "\tNewholland 3230\t\t$700000\n",
      "\tNewholland Super\t\t$800000\n",
      "==================================================\n",
      "\t\t\tTotal\n",
      "\t\t\t$2400000\n",
      "==================================================\n",
      "\n",
      "\tThanks for shopping with us today!\n",
      "\n"
     ]
    }
   ],
   "source": [
    "product1_name, product1_price = 'Newholland 3630', 900000\n",
    "product2_name, product2_price = 'Newholland 3230', 700000\n",
    "product3_name, product3_price = 'Newholland super',800000\n",
    "company_name = 'Jayant_motors'\n",
    "company_address = '144 Kalka road.'\n",
    "company_city = \"Rewari\"\n",
    "message = 'Thanks for shopping with us today!'\n",
    "# create a top border\n",
    "print('*' * 50)\n",
    "print('\\t\\t{}'.format(company_name.title()))\n",
    "print('\\t\\t{}'.format(company_address.title()))\n",
    "print('\\t\\t{}'.format(company_city.title()))\n",
    "# print a line between sections\n",
    "print('=' * 50)\n",
    "print('\\tProduct Name\\tProduct Price')\n",
    "# create a print statement for each item\n",
    "print('\\t{}\\t\\t${}'.format(product1_name.title(), product1_price))\n",
    "print('\\t{}\\t\\t${}'.format(product2_name.title(), product2_price))\n",
    "print('\\t{}\\t\\t${}'.format(product3_name.title(), product3_price))\n",
    "print('=' * 50)\n",
    "# print out header for section of total\n",
    "print('\\t\\t\\tTotal')\n",
    "# calculate total price and print out\n",
    "total = product1_price + product2_price + product3_price\n",
    "print('\\t\\t\\t${}'.format(total))\n",
    "# print a line between sections\n",
    "print('=' * 50)\n",
    "print('\\n\\t{}\\n'.format(message))"
   ]
  },
  {
   "cell_type": "code",
   "execution_count": null,
   "metadata": {},
   "outputs": [],
   "source": []
  }
 ],
 "metadata": {
  "kernelspec": {
   "display_name": "Python 3",
   "language": "python",
   "name": "python3"
  },
  "language_info": {
   "codemirror_mode": {
    "name": "ipython",
    "version": 3
   },
   "file_extension": ".py",
   "mimetype": "text/x-python",
   "name": "python",
   "nbconvert_exporter": "python",
   "pygments_lexer": "ipython3",
   "version": "3.8.5"
  }
 },
 "nbformat": 4,
 "nbformat_minor": 4
}
